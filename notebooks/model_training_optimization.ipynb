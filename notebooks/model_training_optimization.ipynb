{
 "cells": [
  {
   "cell_type": "markdown",
   "id": "dd91f5af-164c-4982-be30-3b8cf61f5543",
   "metadata": {},
   "source": [
    "# Iris Species Classification\n",
    "\n",
    "## Project Overview\n",
    "\n",
    "The **Iris dataset** is one of the most famous datasets in the field of machine learning. It was originally used in R.A. Fisher's classic 1936 paper *The Use of Multiple Measurements in Taxonomic Problems*. This dataset contains 150 samples from three different species of Iris flowers: *Iris-setosa*, *Iris-versicolor*, and *Iris-virginica*, with four features recorded for each sample.\n",
    "\n",
    "The objective of this project is to build a classification model that predicts the species of an Iris flower based on the given features, using machine learning techniques.\n",
    "\n",
    "## Objective\n",
    "\n",
    "The goal of this project is to:\n",
    "\n",
    "1. Understand and visualize the dataset.\n",
    "2. Train a classification model to accurately predict the species of Iris flowers based on the four features.\n",
    "3. Evaluate the performance of different classification models using metrics such as accuracy, precision, recall, and F1-score.\n",
    "\n",
    "## Dataset Description\n",
    "\n",
    "The dataset includes the following columns:\n",
    "\n",
    "- **Id**: Unique identifier for each sample.\n",
    "- **SepalLengthCm**: Sepal length of the flower in centimeters.\n",
    "- **SepalWidthCm**: Sepal width of the flower in centimeters.\n",
    "- **PetalLengthCm**: Petal length of the flower in centimeters.\n",
    "- **PetalWidthCm**: Petal width of the flower in centimeters.\n",
    "- **Species**: The species of the flower (*Iris-setosa*, *Iris-versicolor*, or *Iris-virginica*).\n",
    "\n",
    "### Summary:\n",
    "\n",
    "- **Number of Observations**: 150\n",
    "- **Number of Features**: 5 (4 features + 1 target variable)\n",
    "\n",
    "### Problem Statement\n",
    "\n",
    "- **Model Training**: Train the machine learning model with the data so that it can able to predict the class of Iris species.\n",
    "- **Model Evaluation**: The objective of model evaluation is to evaluate the performance of the trained ML model using different evaluation metrics such as accuracy, presicion, recal and F1 scores.\n",
    "- **Model Optimization** Optimize the performance of the trained ML model using cross validation and hyperparameter tuning so that it can predict the class of Iris species more accurately.\n",
    "\n"
   ]
  },
  {
   "cell_type": "markdown",
   "id": "b496dff1-e429-491e-ad4c-02e44309c76f",
   "metadata": {},
   "source": [
    "### Load Libraries"
   ]
  },
  {
   "cell_type": "code",
   "execution_count": 1,
   "id": "86936957-19f0-416b-a2aa-7415c87185ec",
   "metadata": {},
   "outputs": [],
   "source": [
    "# General\n",
    "import pandas as pd\n",
    "import numpy as np\n",
    "import os\n",
    "import warnings\n",
    "import pickle\n",
    "\n",
    "# Preprocessing\n",
    "from sklearn.model_selection import train_test_split\n",
    "\n",
    "# Model and Evaluation Metrics\n",
    "from sklearn.svm import SVC\n",
    "from sklearn.metrics import accuracy_score, precision_score, recall_score, f1_score"
   ]
  },
  {
   "cell_type": "markdown",
   "id": "3d1b16b7-ac69-470d-a3d2-84b5822613fb",
   "metadata": {},
   "source": [
    "### Settings"
   ]
  },
  {
   "cell_type": "code",
   "execution_count": 2,
   "id": "4bc337b2-f9d6-4852-8f8c-a913d6f688ad",
   "metadata": {},
   "outputs": [],
   "source": [
    "# Warning\n",
    "warnings.filterwarnings(\"ignore\")\n",
    "# Path\n",
    "data_path = \"../data\"\n",
    "model_path = \"../models\"\n",
    "csv_path = os.path.join(data_path, \"Iris_cleaned.csv\")"
   ]
  },
  {
   "cell_type": "markdown",
   "id": "c5e99d0c-4a9a-483a-aec8-21736e0ee831",
   "metadata": {},
   "source": [
    "### Load Data"
   ]
  },
  {
   "cell_type": "code",
   "execution_count": 3,
   "id": "ac7012ac-8822-4d53-8bff-fbbaf8e42d97",
   "metadata": {},
   "outputs": [],
   "source": [
    "df = pd.read_csv(csv_path)"
   ]
  },
  {
   "cell_type": "code",
   "execution_count": 4,
   "id": "8b21536d-0133-471d-acd4-0f290394dc9c",
   "metadata": {},
   "outputs": [
    {
     "data": {
      "text/html": [
       "<div>\n",
       "<style scoped>\n",
       "    .dataframe tbody tr th:only-of-type {\n",
       "        vertical-align: middle;\n",
       "    }\n",
       "\n",
       "    .dataframe tbody tr th {\n",
       "        vertical-align: top;\n",
       "    }\n",
       "\n",
       "    .dataframe thead th {\n",
       "        text-align: right;\n",
       "    }\n",
       "</style>\n",
       "<table border=\"1\" class=\"dataframe\">\n",
       "  <thead>\n",
       "    <tr style=\"text-align: right;\">\n",
       "      <th></th>\n",
       "      <th>SepalLengthCm</th>\n",
       "      <th>SepalWidthCm</th>\n",
       "      <th>PetalLengthCm</th>\n",
       "      <th>PetalWidthCm</th>\n",
       "      <th>Species</th>\n",
       "    </tr>\n",
       "  </thead>\n",
       "  <tbody>\n",
       "    <tr>\n",
       "      <th>0</th>\n",
       "      <td>5.1</td>\n",
       "      <td>3.5</td>\n",
       "      <td>1.4</td>\n",
       "      <td>0.2</td>\n",
       "      <td>0</td>\n",
       "    </tr>\n",
       "    <tr>\n",
       "      <th>1</th>\n",
       "      <td>4.9</td>\n",
       "      <td>3.0</td>\n",
       "      <td>1.4</td>\n",
       "      <td>0.2</td>\n",
       "      <td>0</td>\n",
       "    </tr>\n",
       "    <tr>\n",
       "      <th>2</th>\n",
       "      <td>4.7</td>\n",
       "      <td>3.2</td>\n",
       "      <td>1.3</td>\n",
       "      <td>0.2</td>\n",
       "      <td>0</td>\n",
       "    </tr>\n",
       "    <tr>\n",
       "      <th>3</th>\n",
       "      <td>4.6</td>\n",
       "      <td>3.1</td>\n",
       "      <td>1.5</td>\n",
       "      <td>0.2</td>\n",
       "      <td>0</td>\n",
       "    </tr>\n",
       "    <tr>\n",
       "      <th>4</th>\n",
       "      <td>5.0</td>\n",
       "      <td>3.6</td>\n",
       "      <td>1.4</td>\n",
       "      <td>0.2</td>\n",
       "      <td>0</td>\n",
       "    </tr>\n",
       "  </tbody>\n",
       "</table>\n",
       "</div>"
      ],
      "text/plain": [
       "   SepalLengthCm  SepalWidthCm  PetalLengthCm  PetalWidthCm  Species\n",
       "0            5.1           3.5            1.4           0.2        0\n",
       "1            4.9           3.0            1.4           0.2        0\n",
       "2            4.7           3.2            1.3           0.2        0\n",
       "3            4.6           3.1            1.5           0.2        0\n",
       "4            5.0           3.6            1.4           0.2        0"
      ]
     },
     "execution_count": 4,
     "metadata": {},
     "output_type": "execute_result"
    }
   ],
   "source": [
    "# Check data\n",
    "df.head()"
   ]
  },
  {
   "cell_type": "markdown",
   "id": "9fd54e09-be40-4d4d-9a31-793c7a3dba07",
   "metadata": {},
   "source": [
    "### Preprocessing"
   ]
  },
  {
   "cell_type": "code",
   "execution_count": 5,
   "id": "3851cf58-93e2-425b-8398-8689755fd991",
   "metadata": {},
   "outputs": [],
   "source": [
    "# Separate the Input and Output Features\n",
    "X = df.iloc[:, :-1]\n",
    "y = df[\"Species\"]"
   ]
  },
  {
   "cell_type": "code",
   "execution_count": 6,
   "id": "ce4a14fc-b8cf-467e-a51d-c5600607bf04",
   "metadata": {},
   "outputs": [],
   "source": [
    "# Split training and testing data\n",
    "X_train, X_test, y_train, y_test = train_test_split(X, y, test_size= 0.4, random_state= 42)"
   ]
  },
  {
   "cell_type": "markdown",
   "id": "c4d7cefd-9882-486e-8717-f3a754846e92",
   "metadata": {},
   "source": [
    "### Model Training and Evaluation"
   ]
  },
  {
   "cell_type": "code",
   "execution_count": 7,
   "id": "1dd76ebb-b434-4ed7-b09d-971d86aa692d",
   "metadata": {},
   "outputs": [],
   "source": [
    "# Define a function to train the model and evaluate\n",
    "def train_evaluate(model):\n",
    "    # Train the model\n",
    "    model.fit(X_train, y_train)\n",
    "\n",
    "    # Make prediction on training and testing data\n",
    "    y_train_pred = model.predict(X_train)\n",
    "    y_test_pred = model.predict(X_test)\n",
    "\n",
    "    # Print model evaluation scores\n",
    "    print(\"=\" * 60)\n",
    "    print(\"EVALUATION METRICS FOR TRAINING\")\n",
    "    print(\"=\" * 60)\n",
    "    print(f\"Accuracy: {accuracy_score(y_train, y_train_pred): 0.2f}\")\n",
    "    print(f\"Precision: {precision_score(y_train, y_train_pred, average='weighted'): 0.2f}\")\n",
    "    print(f\"Recall: {recall_score(y_train, y_train_pred, average='weighted'): 0.2f}\")\n",
    "    print(f\"F1: {f1_score(y_train, y_train_pred, average='weighted'): 0.2f}\")\n",
    "    print(\"=\" * 60)\n",
    "    print(\"EVALUATION METRICS FOR TESTING\")\n",
    "    print(\"=\" * 60)\n",
    "    print(f\"Accuracy: {accuracy_score(y_test, y_test_pred): 0.2f}\")\n",
    "    print(f\"Precision: {precision_score(y_test, y_test_pred, average='weighted'): 0.2f}\")\n",
    "    print(f\"Recall: {recall_score(y_test, y_test_pred, average='weighted'): 0.2f}\")\n",
    "    print(f\"F1: {f1_score(y_test, y_test_pred, average='weighted'): 0.2f}\")"
   ]
  },
  {
   "cell_type": "code",
   "execution_count": 9,
   "id": "4c266688-6035-4365-a2ba-ba0c5eb10c15",
   "metadata": {},
   "outputs": [
    {
     "name": "stdout",
     "output_type": "stream",
     "text": [
      "============================================================\n",
      "EVALUATION METRICS FOR TRAINING\n",
      "============================================================\n",
      "Accuracy:  0.96\n",
      "Precision:  0.96\n",
      "Recall:  0.96\n",
      "F1:  0.96\n",
      "============================================================\n",
      "EVALUATION METRICS FOR TESTING\n",
      "============================================================\n",
      "Accuracy:  1.00\n",
      "Precision:  1.00\n",
      "Recall:  1.00\n",
      "F1:  1.00\n"
     ]
    }
   ],
   "source": [
    "# Try with SVM Classifier\n",
    "svc = SVC()\n",
    "train_evaluate(svc)"
   ]
  },
  {
   "cell_type": "markdown",
   "id": "728d0d19-f8b5-46a1-ad14-5ea0ced43255",
   "metadata": {},
   "source": [
    "### Conclusion\n",
    "\n",
    "The evaluation metrics for the Iris species classification using the SVM classifier indicate excellent performance, particularly on the test set, where the model achieves perfect scores. Let's discusss the result in details,\n",
    "\n",
    "#### Training Metrics:\n",
    "\n",
    "- **Accuracy (0.96)**: The model correctly classifies **96%** of the training data. This is a strong performance, indicating that the model has learned the patterns in the training data well.\n",
    "- **Precision, Recall, F1 Score (all 0.96)**: These metrics, each at **96%**, suggest that the model is doing a great job of both identifying the correct species (high precision) and finding most of the species present in the data (high recall). The F1 score, which balances precision and recall, also reflects this good performance.\n",
    "\n",
    "#### Testing Metrics:\n",
    "\n",
    "- **Accuracy (1.00)**: The model achieves **100%** accuracy on the test set, meaning it correctly classified every test example.\n",
    "- **Precision, Recall, F1 Score (all 1.00)**: Precision, recall, and F1 scores of **1.00** suggest that the model perfectly identified every species in the test data without any false positives or false negatives. The model is making flawless predictions on the unseen data.\n",
    "\n",
    "#### Explanation of Performance:\n",
    "\n",
    "- **High Training Accuracy (96%) with Perfect Test Accuracy (100%):** The near-perfect training accuracy shows that the SVM classifier fits the training data well, capturing the distinctions between the different species of iris flowers. The slight difference between training accuracy (**96%**) and test accuracy (**100%**) is not a concern, as the test performance is perfect, meaning the model generalizes exceptionally well to unseen data.\n",
    "- **Perfect Metrics on the Test Set:** Achieving perfect precision, recall, and F1 scores on the test set is unusual but possible for simpler classification problems like Iris species classification. The Iris dataset is relatively small and well-behaved (no missing data, linearly separable classes), making it easier for the SVM model to achieve perfect results.\n",
    "- **No Overfitting or Underfitting:** The model does not show signs of overfitting or underfitting. Overfitting occurs when a model performs well on training data but poorly on testing data, which is not the case here. Similarly, underfitting occurs when the model performs poorly on both sets, which is also not happening. The small gap between the training and test accuracy (96% vs. 100%) suggests that the model is not over-complicating the relationships in the training data but has learned the decision boundaries between species very well."
   ]
  },
  {
   "cell_type": "code",
   "execution_count": null,
   "id": "b4461515-d0c0-47f9-8ff6-2fdbae9f8c31",
   "metadata": {},
   "outputs": [],
   "source": []
  }
 ],
 "metadata": {
  "kernelspec": {
   "display_name": "Python 3 (ipykernel)",
   "language": "python",
   "name": "python3"
  },
  "language_info": {
   "codemirror_mode": {
    "name": "ipython",
    "version": 3
   },
   "file_extension": ".py",
   "mimetype": "text/x-python",
   "name": "python",
   "nbconvert_exporter": "python",
   "pygments_lexer": "ipython3",
   "version": "3.11.9"
  },
  "widgets": {
   "application/vnd.jupyter.widget-state+json": {
    "state": {},
    "version_major": 2,
    "version_minor": 0
   }
  }
 },
 "nbformat": 4,
 "nbformat_minor": 5
}
